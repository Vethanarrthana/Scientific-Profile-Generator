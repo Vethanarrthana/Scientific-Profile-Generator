{
  "nbformat": 4,
  "nbformat_minor": 0,
  "metadata": {
    "colab": {
      "provenance": [],
      "authorship_tag": "ABX9TyOZn4PCKbixFtVMiP/O3SzK",
      "include_colab_link": true
    },
    "kernelspec": {
      "name": "python3",
      "display_name": "Python 3"
    },
    "language_info": {
      "name": "python"
    }
  },
  "cells": [
    {
      "cell_type": "markdown",
      "metadata": {
        "id": "view-in-github",
        "colab_type": "text"
      },
      "source": [
        "<a href=\"https://colab.research.google.com/github/Vethanarrthana/Scientific-Profile-Generator/blob/main/ScientificProfileGenerator_outputParser.ipynb\" target=\"_parent\"><img src=\"https://colab.research.google.com/assets/colab-badge.svg\" alt=\"Open In Colab\"/></a>"
      ]
    },
    {
      "cell_type": "code",
      "execution_count": 3,
      "metadata": {
        "colab": {
          "base_uri": "https://localhost:8080/"
        },
        "id": "jXW5oVMGkptT",
        "outputId": "5cced3af-674d-4f81-8bc7-b28f84378083"
      },
      "outputs": [
        {
          "output_type": "stream",
          "name": "stdout",
          "text": [
            "Collecting langchain_groq\n",
            "  Downloading langchain_groq-0.3.5-py3-none-any.whl.metadata (2.6 kB)\n",
            "Requirement already satisfied: langchain-core<1.0.0,>=0.3.67 in /usr/local/lib/python3.11/dist-packages (from langchain_groq) (0.3.67)\n",
            "Collecting groq<1,>=0.29.0 (from langchain_groq)\n",
            "  Downloading groq-0.29.0-py3-none-any.whl.metadata (16 kB)\n",
            "Requirement already satisfied: anyio<5,>=3.5.0 in /usr/local/lib/python3.11/dist-packages (from groq<1,>=0.29.0->langchain_groq) (4.9.0)\n",
            "Requirement already satisfied: distro<2,>=1.7.0 in /usr/local/lib/python3.11/dist-packages (from groq<1,>=0.29.0->langchain_groq) (1.9.0)\n",
            "Requirement already satisfied: httpx<1,>=0.23.0 in /usr/local/lib/python3.11/dist-packages (from groq<1,>=0.29.0->langchain_groq) (0.28.1)\n",
            "Requirement already satisfied: pydantic<3,>=1.9.0 in /usr/local/lib/python3.11/dist-packages (from groq<1,>=0.29.0->langchain_groq) (2.11.7)\n",
            "Requirement already satisfied: sniffio in /usr/local/lib/python3.11/dist-packages (from groq<1,>=0.29.0->langchain_groq) (1.3.1)\n",
            "Requirement already satisfied: typing-extensions<5,>=4.10 in /usr/local/lib/python3.11/dist-packages (from groq<1,>=0.29.0->langchain_groq) (4.14.0)\n",
            "Requirement already satisfied: langsmith>=0.3.45 in /usr/local/lib/python3.11/dist-packages (from langchain-core<1.0.0,>=0.3.67->langchain_groq) (0.4.4)\n",
            "Requirement already satisfied: tenacity!=8.4.0,<10.0.0,>=8.1.0 in /usr/local/lib/python3.11/dist-packages (from langchain-core<1.0.0,>=0.3.67->langchain_groq) (8.5.0)\n",
            "Requirement already satisfied: jsonpatch<2.0,>=1.33 in /usr/local/lib/python3.11/dist-packages (from langchain-core<1.0.0,>=0.3.67->langchain_groq) (1.33)\n",
            "Requirement already satisfied: PyYAML>=5.3 in /usr/local/lib/python3.11/dist-packages (from langchain-core<1.0.0,>=0.3.67->langchain_groq) (6.0.2)\n",
            "Requirement already satisfied: packaging<25,>=23.2 in /usr/local/lib/python3.11/dist-packages (from langchain-core<1.0.0,>=0.3.67->langchain_groq) (24.2)\n",
            "Requirement already satisfied: idna>=2.8 in /usr/local/lib/python3.11/dist-packages (from anyio<5,>=3.5.0->groq<1,>=0.29.0->langchain_groq) (3.10)\n",
            "Requirement already satisfied: certifi in /usr/local/lib/python3.11/dist-packages (from httpx<1,>=0.23.0->groq<1,>=0.29.0->langchain_groq) (2025.6.15)\n",
            "Requirement already satisfied: httpcore==1.* in /usr/local/lib/python3.11/dist-packages (from httpx<1,>=0.23.0->groq<1,>=0.29.0->langchain_groq) (1.0.9)\n",
            "Requirement already satisfied: h11>=0.16 in /usr/local/lib/python3.11/dist-packages (from httpcore==1.*->httpx<1,>=0.23.0->groq<1,>=0.29.0->langchain_groq) (0.16.0)\n",
            "Requirement already satisfied: jsonpointer>=1.9 in /usr/local/lib/python3.11/dist-packages (from jsonpatch<2.0,>=1.33->langchain-core<1.0.0,>=0.3.67->langchain_groq) (3.0.0)\n",
            "Requirement already satisfied: orjson<4.0.0,>=3.9.14 in /usr/local/lib/python3.11/dist-packages (from langsmith>=0.3.45->langchain-core<1.0.0,>=0.3.67->langchain_groq) (3.10.18)\n",
            "Requirement already satisfied: requests<3,>=2 in /usr/local/lib/python3.11/dist-packages (from langsmith>=0.3.45->langchain-core<1.0.0,>=0.3.67->langchain_groq) (2.32.3)\n",
            "Requirement already satisfied: requests-toolbelt<2.0.0,>=1.0.0 in /usr/local/lib/python3.11/dist-packages (from langsmith>=0.3.45->langchain-core<1.0.0,>=0.3.67->langchain_groq) (1.0.0)\n",
            "Requirement already satisfied: zstandard<0.24.0,>=0.23.0 in /usr/local/lib/python3.11/dist-packages (from langsmith>=0.3.45->langchain-core<1.0.0,>=0.3.67->langchain_groq) (0.23.0)\n",
            "Requirement already satisfied: annotated-types>=0.6.0 in /usr/local/lib/python3.11/dist-packages (from pydantic<3,>=1.9.0->groq<1,>=0.29.0->langchain_groq) (0.7.0)\n",
            "Requirement already satisfied: pydantic-core==2.33.2 in /usr/local/lib/python3.11/dist-packages (from pydantic<3,>=1.9.0->groq<1,>=0.29.0->langchain_groq) (2.33.2)\n",
            "Requirement already satisfied: typing-inspection>=0.4.0 in /usr/local/lib/python3.11/dist-packages (from pydantic<3,>=1.9.0->groq<1,>=0.29.0->langchain_groq) (0.4.1)\n",
            "Requirement already satisfied: charset-normalizer<4,>=2 in /usr/local/lib/python3.11/dist-packages (from requests<3,>=2->langsmith>=0.3.45->langchain-core<1.0.0,>=0.3.67->langchain_groq) (3.4.2)\n",
            "Requirement already satisfied: urllib3<3,>=1.21.1 in /usr/local/lib/python3.11/dist-packages (from requests<3,>=2->langsmith>=0.3.45->langchain-core<1.0.0,>=0.3.67->langchain_groq) (2.4.0)\n",
            "Downloading langchain_groq-0.3.5-py3-none-any.whl (15 kB)\n",
            "Downloading groq-0.29.0-py3-none-any.whl (130 kB)\n",
            "\u001b[2K   \u001b[90m━━━━━━━━━━━━━━━━━━━━━━━━━━━━━━━━━━━━━━━━\u001b[0m \u001b[32m130.8/130.8 kB\u001b[0m \u001b[31m5.6 MB/s\u001b[0m eta \u001b[36m0:00:00\u001b[0m\n",
            "\u001b[?25hInstalling collected packages: groq, langchain_groq\n",
            "Successfully installed groq-0.29.0 langchain_groq-0.3.5\n"
          ]
        }
      ],
      "source": [
        "!pip install langchain_groq"
      ]
    },
    {
      "cell_type": "code",
      "source": [
        "from langchain.output_parsers import StructuredOutputParser, ResponseSchema\n",
        "from langchain.prompts import PromptTemplate\n",
        "from langchain_groq import ChatGroq\n",
        "import os\n",
        "\n",
        "os.environ[\"GROQ_API_KEY\"]=\"your api key\"\n",
        "\n",
        "llm=ChatGroq(model=\"llama3-8b-8192\",temperature=0)"
      ],
      "metadata": {
        "id": "OGmjSx5ymzf2"
      },
      "execution_count": 4,
      "outputs": []
    },
    {
      "cell_type": "code",
      "source": [
        "response_schemas = [\n",
        "    ResponseSchema(name=\"name\", description=\"Name of the scientist\"),\n",
        "    ResponseSchema(name=\"field\", description=\"Field of the scientist\"),\n",
        "    ResponseSchema(name=\"notable_work\", description=\"Notable work of the scientist\")\n",
        "]\n",
        "\n",
        "parser = StructuredOutputParser.from_response_schemas(response_schemas)\n",
        "format_instructions = parser.get_format_instructions()\n",
        "\n",
        "prompt = PromptTemplate(\n",
        "    input_variables=[\"description\"],\n",
        "    template=\"Describe a scientist and extract details:\\n\\n{description}\\n\\n{format_instructions}\",\n",
        "    partial_variables={\"format_instructions\": format_instructions}\n",
        ")\n",
        "\n",
        "description = \"A physicist known for the Theory of Relativity\"\n",
        "final_prompt = prompt.format(description=description)\n",
        "\n",
        "llm_output = llm.invoke(final_prompt)\n",
        "llm_output_text = llm_output.content\n",
        "parsed = parser.parse(llm_output_text)\n",
        "\n",
        "print(parsed)"
      ],
      "metadata": {
        "colab": {
          "base_uri": "https://localhost:8080/"
        },
        "id": "a6iUeu_co7bc",
        "outputId": "0e1fdc51-5150-4d26-a8b9-38690368c9b5"
      },
      "execution_count": 5,
      "outputs": [
        {
          "output_type": "stream",
          "name": "stdout",
          "text": [
            "{'name': 'Albert Einstein', 'field': 'Physicist', 'notable_work': 'Theory of Relativity'}\n"
          ]
        }
      ]
    },
    {
      "cell_type": "markdown",
      "source": [
        "using pydantic"
      ],
      "metadata": {
        "id": "pA3aPS7ec95c"
      }
    },
    {
      "cell_type": "code",
      "source": [
        "from pydantic import BaseModel, Field\n",
        "from langchain.output_parsers import PydanticOutputParser\n",
        "\n",
        "class ScientistProfile(BaseModel):\n",
        "    name: str = Field(description=\"Name of the scientist\")\n",
        "    field: str = Field(description=\"Field of the scientist\")\n",
        "    notable_work: str = Field(description=\"Notable work of the scientist\")\n",
        "\n",
        "parser = PydanticOutputParser(pydantic_object=ScientistProfile)\n",
        "\n",
        "prompt = PromptTemplate(\n",
        "    input_variables=[\"description\"],\n",
        "    template=\"Describe a scientist and extract details:\\n\\n{description}\\n\\n{format_instructions}\",\n",
        "    partial_variables={\"format_instructions\": parser.get_format_instructions()}\n",
        ")\n",
        "\n",
        "description = input(\"Please enter a description of a scientist: \")\n",
        "\n",
        "final_prompt = prompt.format(description=description)\n",
        "llm_output = llm.invoke(final_prompt)\n",
        "llm_output_text = llm_output.content\n",
        "\n",
        "print(\"Raw LLM output:\", llm_output_text)\n",
        "parsed_data = parser.parse(llm_output_text)\n",
        "\n",
        "print(parsed_data)"
      ],
      "metadata": {
        "colab": {
          "base_uri": "https://localhost:8080/"
        },
        "id": "GE7uMaWhspYA",
        "outputId": "5a68a80a-24e9-43eb-e938-52763002dbea"
      },
      "execution_count": 10,
      "outputs": [
        {
          "output_type": "stream",
          "name": "stdout",
          "text": [
            "Please enter a description of a scientist: thomas alva edison\n",
            "Raw LLM output: Here is the output in JSON format that conforms to the given schema:\n",
            "\n",
            "```\n",
            "{\n",
            "  \"name\": \"Thomas Alva Edison\",\n",
            "  \"field\": \"Physicist and Inventor\",\n",
            "  \"notable_work\": \"Development of the Light Bulb\"\n",
            "}\n",
            "```\n",
            "\n",
            "Note: The details extracted are based on the information available about Thomas Alva Edison, and may not be exhaustive or entirely accurate.\n",
            "name='Thomas Alva Edison' field='Physicist and Inventor' notable_work='Development of the Light Bulb'\n"
          ]
        }
      ]
    }
  ]
}